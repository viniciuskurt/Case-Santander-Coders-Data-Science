{
 "cells": [
  {
   "cell_type": "markdown",
   "id": "485073fb",
   "metadata": {
    "heading_collapsed": true
   },
   "source": [
    "# <center>Santander Coders & Let's Code | Ciência de Dados<center>"
   ]
  },
  {
   "cell_type": "markdown",
   "id": "dd6a9d74",
   "metadata": {
    "heading_collapsed": true,
    "hidden": true
   },
   "source": [
    "## Case = Quantas pastas dentais são vendidas no Brasil por mês?\n",
    "\n",
    "- O presente estudo tem o objetivo didático de simular o descobrimento referente ao total de vendas mensal de pastas de creme tental no Brasil.\n",
    "\n",
    "\n",
    "Realizando uma breve analise lógica, é provável que uma boa solução para essa questão seria tentar estipular o número de consumidores do produto e verificar a quantidade de consumo individual diáriac  calculando o total de consumo x consumidores afim de chegarmos a uma estimativa plausível.\n",
    "\n",
    "----------"
   ]
  },
  {
   "cell_type": "markdown",
   "id": "b5d36106",
   "metadata": {
    "heading_collapsed": true,
    "hidden": true
   },
   "source": [
    "### <center>Referências e Coleta de Dados<center>\n",
    "\n",
    "Para esse estudo foram realizados pesquisa e coletados os dados das seguintes fontes:\n",
    " -  Instituto Brasileiro de Geografia - IBGE\n",
    " -  Agência Global de Comunicação Edelman Insights\n",
    " -  Conselho Federal de Odontologia\n",
    " -  Pesquisador Daniel Duque do Instituto Brasileiro de Economia da Fundação Getúlio Vargas\n"
   ]
  },
  {
   "cell_type": "markdown",
   "id": "3080e3ce",
   "metadata": {
    "hidden": true
   },
   "source": [
    "------------------------------------------"
   ]
  },
  {
   "cell_type": "markdown",
   "id": "76af6d79",
   "metadata": {
    "heading_collapsed": true
   },
   "source": [
    "# <center>Metodologia</center>\n"
   ]
  },
  {
   "cell_type": "markdown",
   "id": "d18cf47d",
   "metadata": {
    "hidden": true
   },
   "source": [
    "Para uma melhor compreensão o estudo foi dividido em 5 etapas:\n",
    "\n",
    "- 1ª Etapa: Levantamento da População do Estudo.\n",
    "- 2ª Etapa: Tratamento dos Dados.\n",
    "- 3ª Etapa: Cálculo de média de consumo diário e mensal de pasta de dente.\n",
    "- 4ª Etapa: Cálculo de média de consumo de pasta por mês pelo total de consumidores.\n",
    "- 5ª Etapa: Conclusão do Estudo.\n",
    "\n",
    "Veremos minunciosamente cada uma dela a seguir"
   ]
  },
  {
   "cell_type": "markdown",
   "id": "bd6e6533",
   "metadata": {
    "hidden": true
   },
   "source": [
    "\n",
    "------------------------------------------------"
   ]
  },
  {
   "cell_type": "markdown",
   "id": "ec4c5242",
   "metadata": {
    "code_folding": []
   },
   "source": [
    "# <center>Etapa 1 - Levantamento da População do Estudo </center>"
   ]
  },
  {
   "cell_type": "markdown",
   "id": "2e29c4b6",
   "metadata": {},
   "source": [
    "Para iniciar do estudo, foi necessário pesquisar sobre a quantidade da população geral do  Brasil atualmente (julho 2021).\n",
    "\n",
    "Para obter esses valores foi consultado a seguinte base de dados do IBGE.\n",
    "\n",
    "- Estimado que a População do Brasil é de **<span style = \"color: red\">213.368.687</span>**\n",
    "\n",
    "Vamos criar a variável **<span style = \"color: blue\">PGB</span>** (População Geral Brasil) e armazenar esse valor nela:\n",
    "\n",
    "##### <center><span style = \"color: blue\">PGB = <span style = \"color: red\">213.368.687</span></span></center>"
   ]
  },
  {
   "cell_type": "code",
   "execution_count": 3,
   "id": "81e1bf0c",
   "metadata": {
    "ExecuteTime": {
     "end_time": "2021-07-29T22:16:08.753435Z",
     "start_time": "2021-07-29T22:16:08.750438Z"
    }
   },
   "outputs": [],
   "source": [
    "PGB = 213368687"
   ]
  },
  {
   "cell_type": "markdown",
   "id": "723c3abe",
   "metadata": {},
   "source": [
    "OBS:"
   ]
  },
  {
   "cell_type": "markdown",
   "id": "97fdb91d",
   "metadata": {},
   "source": [
    "    Devemos tomar um certo cuidado aqui, pois devemos ter em mente que não são todos os elementos dessa população que se enquadram dentro da nossa pesquisa. Veremos sobre essa questão na próxima etapa.\n",
    "    \n",
    "Fonte: https://www.ibge.gov.br/apps/populacao/projecao/index.html\n",
    "    \n",
    "--------------------------"
   ]
  },
  {
   "cell_type": "code",
   "execution_count": 4,
   "id": "d3ba9150",
   "metadata": {
    "ExecuteTime": {
     "end_time": "2021-07-29T22:16:10.617844Z",
     "start_time": "2021-07-29T22:16:10.596857Z"
    }
   },
   "outputs": [],
   "source": [
    "#Importanto Bibliotecas Python necessárias para Manipulação de Dados:\n",
    "\n",
    "import pandas as pd\n",
    "import numpy as np\n",
    "import seaborn as sns\n",
    "%matplotlib inline"
   ]
  },
  {
   "cell_type": "markdown",
   "id": "279a042e",
   "metadata": {},
   "source": [
    "# <center>Etapa 2 - Tratamento dos Dados </center>\n",
    "\n"
   ]
  },
  {
   "cell_type": "markdown",
   "id": "7a747625",
   "metadata": {},
   "source": [
    "\n",
    "Muitos elementos que estão classificados dentro da População geral não se enquandram dentro da nossa pesquisa, pois não possuem a carcterística de consumidores de creme dental ou seja, **por algum motivo não fazem o consumo do produto**. \n",
    "\n",
    "\n",
    "Precisamos tratar esses dados retirando esses elementos afim de evitar um viés equívoco do projeto e assegurarmos um valor estimado de população de consumidores mais fiel para a base de nossos cálculos.\n"
   ]
  },
  {
   "cell_type": "markdown",
   "id": "a56afe57",
   "metadata": {},
   "source": [
    "### <center>**Tipos de elementos inválidos para a População de nosso Estudo:**<center>\n",
    "\n",
    "Definídos como critérios desse estudo, temos 3 tipos de elementos que não fazem parte, são eles:\n",
    "    \n",
    "- Crianças entre 0 a 4 anos;\n",
    "- Brasileiros que não possuem nenhum dente;\n",
    "- Pessoas que vivem em situação de Extrema Pobreza.    \n",
    "\n",
    "Vejamos a seguir mais detalhes sobre elas:"
   ]
  },
  {
   "cell_type": "markdown",
   "id": "5b6a84e7",
   "metadata": {},
   "source": [
    "\n",
    "#### Crianças entre 0 a 4 anos:\n",
    "    \n",
    "    Sabemos que crianças dessa faixa etária não escovam os dentes ou não escovam os dentes de maneira adequada para      contabilizar significativamente no resultado de nosso estudo.\n",
    "\n",
    "- Segundo o IBGE a estimativa dessa faixa etária é de aproximadamente **<span style = \"color: red\">7%</span>** da população.\n",
    "\n",
    "- Logo se multiplicarmos essa porcentagem pela População Geral obtemos o valor aproximado de:\n",
    "\n",
    "#####    <center style = \"color: red\">**213.368.687 x 0,07 = 14.935.808,09**</center>\n",
    "\n",
    "\n",
    "Vamos armazenar esse valor numa variável chamada <span style = \"color: blue\">**CB**</span> (crianças brasileiras):\n",
    "\n",
    "\n",
    "\n",
    "##### <center><span style = \"color: blue\">CB = <span style = \"color: red\">14.935.808,09</span></span></center>"
   ]
  },
  {
   "cell_type": "code",
   "execution_count": 5,
   "id": "68d1a3aa",
   "metadata": {
    "ExecuteTime": {
     "end_time": "2021-07-29T22:16:12.643927Z",
     "start_time": "2021-07-29T22:16:12.632933Z"
    }
   },
   "outputs": [
    {
     "name": "stdout",
     "output_type": "stream",
     "text": [
      "14935808.09\n"
     ]
    }
   ],
   "source": [
    "CB = PGB * 0.07\n",
    "\n",
    "print(\"%.2f\" %CB)"
   ]
  },
  {
   "cell_type": "markdown",
   "id": "233ae36d",
   "metadata": {},
   "source": [
    "Fonte: https://educa.ibge.gov.br/jovens/conheca-o-brasil/populacao/18318-piramide-etaria.html\n",
    "\n",
    "------------------------------"
   ]
  },
  {
   "cell_type": "markdown",
   "id": "482ba2f4",
   "metadata": {},
   "source": [
    "\n",
    "#### Brasileiros que não possuem nenhum dente:\n",
    "    \n",
    "    \n",
    "   Segundo um estudo de ***Percepções Latino-americanas sobre Perda de Dentes e Autoconfiança*** , realizado pela **Agência Global de Comunicação Edelman Insights** cerca de **<span style = \"color:red\">16.000.000</span>** de brasileiros vivem sem nenhum dente. Logo sabemos que essas pessoas não contabilizam acertivamente para nossa pesquisa.\n",
    "    \n",
    "    \n",
    "Vamos armazenar esse valor numa variável chamada <span style = \"color: blue\">**PNPD**</span> (População q Não Possuem Dente).\n",
    "\n",
    "\n",
    "##### <center><span style = \"color: blue\">PNPD = <span style = \"color: red\">16.000.000</span></span></center>    \n",
    "    \n",
    "\n",
    "    \n"
   ]
  },
  {
   "cell_type": "code",
   "execution_count": 6,
   "id": "a9b89ad6",
   "metadata": {
    "ExecuteTime": {
     "end_time": "2021-07-29T22:16:14.494082Z",
     "start_time": "2021-07-29T22:16:14.482087Z"
    }
   },
   "outputs": [],
   "source": [
    "PNPD = 16000000"
   ]
  },
  {
   "cell_type": "markdown",
   "id": "d30cc127",
   "metadata": {
    "ExecuteTime": {
     "end_time": "2021-07-27T14:03:00.556131Z",
     "start_time": "2021-07-27T14:03:00.543141Z"
    }
   },
   "source": [
    "OBS: \n",
    "\n"
   ]
  },
  {
   "cell_type": "markdown",
   "id": "9c2dd654",
   "metadata": {},
   "source": [
    "\n",
    "Já foi retirado dessa estatística os brasileiros que usam prótese dentária.\n",
    "\n",
    "Fonte: https://ohoje.com/noticia/cidades/n/163244/t/a-perda-de-dentes-e-o-segundo-fator-que-mais-prejudica-a-qualidade-de-vida-das-pessoas/\n",
    "\n",
    "--------------------------"
   ]
  },
  {
   "cell_type": "markdown",
   "id": "00106803",
   "metadata": {},
   "source": [
    "#### Pessoas que vivem em situação de Extrema Pobreza:\n",
    "    \n",
    "O Pesquisador ***Daniel Duque do Instituto Brasileiro de Economia da Fundação Getúlio Vargas*** em parceria com o IBGE,  informou em seu estudo que cerca de <span style = \"color: red\">6,5%</span> da população vivem em situação de miséria no Brasil.\n",
    "\n",
    "Sabemos que essa população basicamente vive com doações portanto não faz parte dos consumidores de nosso estudo.\n",
    "\n",
    "\n",
    "#####    <center style = \"color: red\">**213.368.687 x 0,065% = 13.868.964,66**</center>\n",
    "\n",
    "\n",
    "Vamos armazenar esse valor numa variável chamada <span style = \"color: blue\">**PEP**</span> (População Extrema Pobreza):\n",
    "\n",
    "\n",
    "\n",
    "##### <center><span style = \"color: blue\">PEP = <span style = \"color: red\">13.868.964,66</span></span></center>\n",
    "\n",
    "  "
   ]
  },
  {
   "cell_type": "code",
   "execution_count": 7,
   "id": "3644b8c1",
   "metadata": {
    "ExecuteTime": {
     "end_time": "2021-07-29T22:16:17.915886Z",
     "start_time": "2021-07-29T22:16:17.896889Z"
    }
   },
   "outputs": [
    {
     "name": "stdout",
     "output_type": "stream",
     "text": [
      "13868964.66\n"
     ]
    }
   ],
   "source": [
    "PEP = PGB * 0.065\n",
    "print(\"%.2f\" % PEP)"
   ]
  },
  {
   "cell_type": "markdown",
   "id": "a6d75b37",
   "metadata": {},
   "source": [
    "Fonte: https://agenciadenoticias.ibge.gov.br/agencia-sala-de-imprensa/2013-agencia-de-noticias/releases/29431-sintese-de-indicadores-sociais-em-2019-proporcao-de-pobres-cai-para-24-7-e-extrema-pobreza-se-mantem-em-6-5-da-populacao#:~:text=de%20Notícias%20%7C%20IBGE-,Síntese%20de%20Indicadores%20Sociais%3A%20em%202019%2C%20proporção%20de%20pobres%20cai,em%206%2C5%25%20da%20população\n",
    "\n",
    "-------------------------"
   ]
  },
  {
   "cell_type": "markdown",
   "id": "36a57a4b",
   "metadata": {},
   "source": [
    "#### Estimativa de População Real de Consumidores\n",
    "\n",
    "1-) Para chegarmos a um valor de consumidores mais ideal dentro da possível realidade, vamos somar o total de dados considerados inválidos para nosso estudo e armazená-lo na variável <span style = \"color: blue\"> **PCI** </span> (população de consumidores inválidos):\n",
    "\n",
    "##### <center><span style = \"color: blue\"> PCI = CB + PNPD + PEP </span></center>\n",
    "\n",
    "\n",
    "##### <center><span style = \"color: blue\"> PCI = </span><span style = \"color: red\">44.804.772,75 </center>\n"
   ]
  },
  {
   "cell_type": "code",
   "execution_count": 8,
   "id": "392c2c71",
   "metadata": {
    "ExecuteTime": {
     "end_time": "2021-07-29T22:16:20.083186Z",
     "start_time": "2021-07-29T22:16:20.068191Z"
    }
   },
   "outputs": [
    {
     "name": "stdout",
     "output_type": "stream",
     "text": [
      "44804772.75\n"
     ]
    }
   ],
   "source": [
    "PCI = CB + PNPD + PEP\n",
    "print(\"%.2f\" % PCI)"
   ]
  },
  {
   "cell_type": "code",
   "execution_count": 12,
   "id": "a8c17531",
   "metadata": {
    "ExecuteTime": {
     "end_time": "2021-07-29T22:16:53.066200Z",
     "start_time": "2021-07-29T22:16:53.032199Z"
    }
   },
   "outputs": [
    {
     "data": {
      "text/html": [
       "<div>\n",
       "<style scoped>\n",
       "    .dataframe tbody tr th:only-of-type {\n",
       "        vertical-align: middle;\n",
       "    }\n",
       "\n",
       "    .dataframe tbody tr th {\n",
       "        vertical-align: top;\n",
       "    }\n",
       "\n",
       "    .dataframe thead th {\n",
       "        text-align: right;\n",
       "    }\n",
       "</style>\n",
       "<table border=\"1\" class=\"dataframe\">\n",
       "  <thead>\n",
       "    <tr style=\"text-align: right;\">\n",
       "      <th></th>\n",
       "      <th>Nome Variável</th>\n",
       "      <th>População Inválida</th>\n",
       "      <th>Total</th>\n",
       "    </tr>\n",
       "  </thead>\n",
       "  <tbody>\n",
       "    <tr>\n",
       "      <th>0</th>\n",
       "      <td>CB</td>\n",
       "      <td>Crianças Brasileiras</td>\n",
       "      <td>14935808.09</td>\n",
       "    </tr>\n",
       "    <tr>\n",
       "      <th>1</th>\n",
       "      <td>PNPD</td>\n",
       "      <td>Não Possuem Dente</td>\n",
       "      <td>16000000.00</td>\n",
       "    </tr>\n",
       "    <tr>\n",
       "      <th>2</th>\n",
       "      <td>PEP</td>\n",
       "      <td>Extrema Pobreza</td>\n",
       "      <td>13868964.66</td>\n",
       "    </tr>\n",
       "    <tr>\n",
       "      <th>3</th>\n",
       "      <td>PCI</td>\n",
       "      <td>Total População Inválida</td>\n",
       "      <td>44804772.75</td>\n",
       "    </tr>\n",
       "  </tbody>\n",
       "</table>\n",
       "</div>"
      ],
      "text/plain": [
       "  Nome Variável        População Inválida        Total\n",
       "0            CB      Crianças Brasileiras  14935808.09\n",
       "1          PNPD         Não Possuem Dente  16000000.00\n",
       "2           PEP           Extrema Pobreza  13868964.66\n",
       "3           PCI  Total População Inválida  44804772.75"
      ]
     },
     "execution_count": 12,
     "metadata": {},
     "output_type": "execute_result"
    }
   ],
   "source": [
    "data = {\n",
    "    'Nome Variável': ['CB', 'PNPD', 'PEP', 'PCI'],\n",
    "    'População Inválida': ['Crianças Brasileiras', 'Não Possuem Dente', 'Extrema Pobreza','Total População Inválida'],\n",
    "    'Total': [\"%.2f\" % CB, \"%.2f\" % PNPD, \"%.2f\" % PEP, \"%.2f\" % PCI]}\n",
    "\n",
    "df = pd.DataFrame(data, columns=['Nome Variável','População Inválida','Total'])\n",
    "\n",
    "df"
   ]
  },
  {
   "cell_type": "code",
   "execution_count": 32,
   "id": "199cd073",
   "metadata": {
    "ExecuteTime": {
     "end_time": "2021-07-29T22:29:17.388977Z",
     "start_time": "2021-07-29T22:29:17.166650Z"
    }
   },
   "outputs": [
    {
     "data": {
      "text/plain": [
       "<AxesSubplot:xlabel='Nome Variável'>"
      ]
     },
     "execution_count": 32,
     "metadata": {},
     "output_type": "execute_result"
    },
    {
     "data": {
      "image/png": "[encoded data removed]",
      "text/plain": [
       "<Figure size 1440x360 with 1 Axes>"
      ]
     },
     "metadata": {
      "needs_background": "light"
     },
     "output_type": "display_data"
    }
   ],
   "source": [
    "df.groupby(['Nome Variável']).Total.count().sort_values()[-4:].plot(kind='bar', figsize=(20,5))"
   ]
  },
  {
   "cell_type": "markdown",
   "id": "6203f2a7",
   "metadata": {},
   "source": [
    "2-) Em seguida realizamos o cálculo para retirar da População Geral (PG) o total de População de Consumidores Inválidos (PCI) e armazenamos esse valor na váriavel <span style = \"color: blue\"> **PCV** </span>:\n",
    "\n",
    "##### <center><span style = \"color: blue\"> PCV = PGB - PCI </span></center>\n",
    "\n",
    "\n",
    "##### <center><span style = \"color: blue\"> PCV = </span><span style = \"color: red\">168.563.914,25 </center>\n"
   ]
  },
  {
   "cell_type": "code",
   "execution_count": 10,
   "id": "6590f6cf",
   "metadata": {
    "ExecuteTime": {
     "end_time": "2021-07-29T22:16:23.327145Z",
     "start_time": "2021-07-29T22:16:23.308143Z"
    }
   },
   "outputs": [
    {
     "name": "stdout",
     "output_type": "stream",
     "text": [
      "168563914.25\n"
     ]
    }
   ],
   "source": [
    "PCV = PGB - PCI\n",
    "print(\"%.2f\" % PCV)"
   ]
  },
  {
   "cell_type": "code",
   "execution_count": 11,
   "id": "0e6161e8",
   "metadata": {
    "ExecuteTime": {
     "end_time": "2021-07-29T22:16:26.141972Z",
     "start_time": "2021-07-29T22:16:26.120976Z"
    }
   },
   "outputs": [
    {
     "data": {
      "text/html": [
       "<div>\n",
       "<style scoped>\n",
       "    .dataframe tbody tr th:only-of-type {\n",
       "        vertical-align: middle;\n",
       "    }\n",
       "\n",
       "    .dataframe tbody tr th {\n",
       "        vertical-align: top;\n",
       "    }\n",
       "\n",
       "    .dataframe thead th {\n",
       "        text-align: right;\n",
       "    }\n",
       "</style>\n",
       "<table border=\"1\" class=\"dataframe\">\n",
       "  <thead>\n",
       "    <tr style=\"text-align: right;\">\n",
       "      <th></th>\n",
       "      <th>Nome Variável</th>\n",
       "      <th>População</th>\n",
       "      <th>Total</th>\n",
       "    </tr>\n",
       "  </thead>\n",
       "  <tbody>\n",
       "    <tr>\n",
       "      <th>0</th>\n",
       "      <td>PGB</td>\n",
       "      <td>População Geral</td>\n",
       "      <td>213368687.00</td>\n",
       "    </tr>\n",
       "    <tr>\n",
       "      <th>1</th>\n",
       "      <td>PCI</td>\n",
       "      <td>População Inválida</td>\n",
       "      <td>44804772.75</td>\n",
       "    </tr>\n",
       "    <tr>\n",
       "      <th>2</th>\n",
       "      <td>PCV</td>\n",
       "      <td>Consumidores Válidos</td>\n",
       "      <td>168563914.25</td>\n",
       "    </tr>\n",
       "  </tbody>\n",
       "</table>\n",
       "</div>"
      ],
      "text/plain": [
       "  Nome Variável             População         Total\n",
       "0           PGB       População Geral  213368687.00\n",
       "1           PCI    População Inválida   44804772.75\n",
       "2           PCV  Consumidores Válidos  168563914.25"
      ]
     },
     "execution_count": 11,
     "metadata": {},
     "output_type": "execute_result"
    }
   ],
   "source": [
    "data = {\n",
    "    'Nome Variável': ['PGB', 'PCI', 'PCV'],\n",
    "    'População': ['População Geral','População Inválida', 'Consumidores Válidos'],\n",
    "    'Total': [\"%.2f\" % PGB, \"%.2f\" % PCI, \"%.2f\" %PCV ]}\n",
    "\n",
    "dfg = pd.DataFrame(data, columns=['Nome Variável','População', 'Total'])\n",
    "\n",
    "dfg"
   ]
  },
  {
   "cell_type": "code",
   "execution_count": null,
   "id": "c301c0d8",
   "metadata": {},
   "outputs": [],
   "source": []
  },
  {
   "cell_type": "markdown",
   "id": "a4ec765a",
   "metadata": {},
   "source": [
    "--------------------------------"
   ]
  },
  {
   "cell_type": "markdown",
   "id": "2385bfe4",
   "metadata": {},
   "source": [
    "# <center>Etapa 3 - Média de Consumo Diário e Mensal Individual </center>"
   ]
  },
  {
   "cell_type": "markdown",
   "id": "bf834088",
   "metadata": {},
   "source": [
    "## Média de Consumo Diário\n",
    "\n",
    "Nesta etapa, precisamos descobrir a média de consumo diário de pastas de dente usadas pelos consumidores. \n",
    "\n",
    "A princípio pensaremos no consumo diário de um único consumidor!\n",
    "\n",
    "Vamos utilizar como requisito de parâmetros as informações sugeridas pelo **Conselho Federal de Odontologia** que são:\n",
    "\n",
    "- Número ideal de escovação diária é de pelo menos 4 vezes ao dia.\n",
    "\n",
    "- Quantidade média ideal de creme dental recomendada em cada escovação é de 2 gramas.\n",
    "\n",
    "\n",
    "Logo obtemos o seguinte cáculo:\n",
    "\n",
    "##### <center style = \"color: red\" >4 x 2g = 8g</center>\n",
    "\n",
    "Vamos armazenar esse valor numa variável chamada <span style = \"color: blue\">**MD**</span> (crianças brasileiras):\n",
    "\n",
    "\n",
    "##### <center><span style = \"color: blue\"> MD = </span><span style = \"color: red\">8g </center>\n",
    "\n",
    "-------------"
   ]
  },
  {
   "cell_type": "code",
   "execution_count": 12,
   "id": "7a75e668",
   "metadata": {
    "ExecuteTime": {
     "end_time": "2021-07-28T23:14:57.152115Z",
     "start_time": "2021-07-28T23:14:57.138122Z"
    }
   },
   "outputs": [
    {
     "name": "stdout",
     "output_type": "stream",
     "text": [
      "8\n"
     ]
    }
   ],
   "source": [
    "MD = 4 * 2\n",
    "print(MD)"
   ]
  },
  {
   "cell_type": "markdown",
   "id": "8b295e9a",
   "metadata": {},
   "source": [
    "## Média de Consumo Mensal\n",
    "\n",
    "Para chegar a esse valor precisamos multiplicar a média de consumo diário (MD) pelo total de dias do mês.\n",
    "\n",
    "A princípio pensaremos no consumo mensal de um único consumidor!\n",
    "\n",
    "Vamos armazenar esse resultado na variável <span style = \"color: blue\"> **MM** </span>.\n",
    "\n",
    "- Para caráter didático, vamos considerar o mês com 30 dias.\n",
    "\n",
    "##### <center><span style = \"color: blue\"> MM = MD x </span><span style = \"color: red\">30</span> </center>\n",
    "\n",
    "##### <center><span style = \"color: blue\"> MM = </span><span style = \"color: red\"> 240g </span></center>\n"
   ]
  },
  {
   "cell_type": "code",
   "execution_count": 13,
   "id": "c27839c5",
   "metadata": {
    "ExecuteTime": {
     "end_time": "2021-07-28T23:14:59.492430Z",
     "start_time": "2021-07-28T23:14:59.476420Z"
    }
   },
   "outputs": [
    {
     "name": "stdout",
     "output_type": "stream",
     "text": [
      "240\n"
     ]
    }
   ],
   "source": [
    "MM = MD * 30\n",
    "print(MM)"
   ]
  },
  {
   "cell_type": "markdown",
   "id": "43cfe907",
   "metadata": {},
   "source": [
    "# Etapa 4 - Média de Consumo Mensal Total"
   ]
  },
  {
   "cell_type": "markdown",
   "id": "8957f3ae",
   "metadata": {},
   "source": [
    "Agora que obtivemos a média mensal <span style = \"color: blue\">MM</span> de consumo por individuo, temos que calcular a média mensal pelo total de consumidores <span style = \"color: blue\">PCV</span>.\n",
    "\n",
    "- Lembrando que o valor das variáveis MM e CMT terão a unidade de medida em gramas\n",
    "\n",
    "\n",
    "- Iremos armazenar o resultado na variável <span style = \"color: blue\">CMT</span> (Consumo Mensal Total)\n",
    "\n",
    "##### <center><span style = \"color: blue\">CMT = MM x PCV</span></center>\n",
    "\n",
    "##### <center><span style = \"color: blue\"> CMT = </span><span style = \"color: red\"> 40.455.339.421,20g </span></center>\n"
   ]
  },
  {
   "cell_type": "code",
   "execution_count": 14,
   "id": "40ddc786",
   "metadata": {
    "ExecuteTime": {
     "end_time": "2021-07-28T23:15:02.555224Z",
     "start_time": "2021-07-28T23:15:02.536224Z"
    }
   },
   "outputs": [
    {
     "name": "stdout",
     "output_type": "stream",
     "text": [
      "40455339421.2\n"
     ]
    }
   ],
   "source": [
    "CMT = MM * PCV\n",
    "print(CMT)"
   ]
  },
  {
   "cell_type": "markdown",
   "id": "bbc9e77c",
   "metadata": {},
   "source": [
    "## Conversão de valor de variável CMT para de gramas para kilos."
   ]
  },
  {
   "cell_type": "markdown",
   "id": "c423464f",
   "metadata": {},
   "source": [
    "Para melhor compreensão do resultado da case vamos converter o valor do Consumo Mensal Total <span style = \"color: blue\">**CMT**</span> de gramas para kilos:\n",
    "\n",
    "- Iremos armazenar o resultado na variável <span style = \"color: blue\">CMK</span> (Consumo Mensal Kilos)\n",
    "\n",
    "##### <center><span style = \"color: blue\">CMK = CMT / 100</span></center>\n",
    "\n",
    "##### <center><span style = \"color: blue\"> CMK = </span><span style = \"color: red\"> 40.455.339,42k </span></center>\n",
    "\n"
   ]
  },
  {
   "cell_type": "code",
   "execution_count": 17,
   "id": "cb75dbfd",
   "metadata": {
    "ExecuteTime": {
     "end_time": "2021-07-28T23:18:56.522762Z",
     "start_time": "2021-07-28T23:18:56.509464Z"
    }
   },
   "outputs": [
    {
     "name": "stdout",
     "output_type": "stream",
     "text": [
      "40455339.42\n"
     ]
    }
   ],
   "source": [
    "CMK = CMT / 1000\n",
    "print(\"%.2f\" % CMK)"
   ]
  },
  {
   "cell_type": "markdown",
   "id": "f8b174d8",
   "metadata": {},
   "source": [
    "# Etapa 5 - Conclusão do Estudo"
   ]
  },
  {
   "cell_type": "markdown",
   "id": "641d7cc9",
   "metadata": {},
   "source": [
    "\n",
    "\n",
    "Baseado nos estudos realizados acima, podemos concluir que aproximadamente <span style = \"color: red\">40.455.339,42</span> de kilos pastas dentais são vendidas no Brasil por mês.\n",
    "\n",
    "\n",
    "É importante salientar que devido a fatores de demanda de mercado, sempre serão produzidos pela indústria uma quantidade maior do kilos do produto de pasta de dente que se pode consumir ou vender mensalmente. \n",
    "\n",
    "\n",
    "Finalmente para presumir valores mais assertivos de vendas deste produto, seria necessário realizar um estudo com mais tempo para pesquisa em campo com consumidores ou com fontes da indústria de cremes dentais.\n"
   ]
  }
 ],
 "metadata": {
  "hide_input": false,
  "kernelspec": {
   "display_name": "Python 3",
   "language": "python",
   "name": "python3"
  },
  "language_info": {
   "codemirror_mode": {
    "name": "ipython",
    "version": 3
   },
   "file_extension": ".py",
   "mimetype": "text/x-python",
   "name": "python",
   "nbconvert_exporter": "python",
   "pygments_lexer": "ipython3",
   "version": "3.8.8"
  },
  "toc": {
   "base_numbering": 1,
   "nav_menu": {},
   "number_sections": true,
   "sideBar": true,
   "skip_h1_title": false,
   "title_cell": "Table of Contents",
   "title_sidebar": "Contents",
   "toc_cell": false,
   "toc_position": {
    "height": "calc(100% - 180px)",
    "left": "10px",
    "top": "150px",
    "width": "165px"
   },
   "toc_section_display": true,
   "toc_window_display": false
  },
  "varInspector": {
   "cols": {
    "lenName": 16,
    "lenType": 16,
    "lenVar": 40
   },
   "kernels_config": {
    "python": {
     "delete_cmd_postfix": "",
     "delete_cmd_prefix": "del ",
     "library": "var_list.py",
     "varRefreshCmd": "print(var_dic_list())"
    },
    "r": {
     "delete_cmd_postfix": ") ",
     "delete_cmd_prefix": "rm(",
     "library": "var_list.r",
     "varRefreshCmd": "cat(var_dic_list()) "
    }
   },
   "types_to_exclude": [
    "module",
    "function",
    "builtin_function_or_method",
    "instance",
    "_Feature"
   ],
   "window_display": false
  }
 },
 "nbformat": 4,
 "nbformat_minor": 5
}
